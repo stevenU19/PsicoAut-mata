{
  "nbformat": 4,
  "nbformat_minor": 0,
  "metadata": {
    "colab": {
      "provenance": [],
      "include_colab_link": true
    },
    "kernelspec": {
      "name": "python3",
      "display_name": "Python 3"
    },
    "language_info": {
      "name": "python"
    }
  },
  "cells": [
    {
      "cell_type": "markdown",
      "metadata": {
        "id": "view-in-github",
        "colab_type": "text"
      },
      "source": [
        "<a href=\"https://colab.research.google.com/github/stevenU19/PsicoAutomata/blob/main/PsicoAut%C3%B3mata.ipynb\" target=\"_parent\"><img src=\"https://colab.research.google.com/assets/colab-badge.svg\" alt=\"Open In Colab\"/></a>"
      ]
    },
    {
      "cell_type": "markdown",
      "metadata": {
        "id": "OGW14JQRV0UY"
      },
      "source": [
        "# **PROYECTO FINAL AUTÓMATAS Y LENGUAJES FORMALES**: \n",
        "### *PSICOAUTÓMATA*\n",
        "\n"
      ]
    },
    {
      "cell_type": "markdown",
      "metadata": {
        "id": "H64rAx_p6RYN"
      },
      "source": [
        "#### Lectura del DataSet "
      ]
    },
    {
      "cell_type": "code",
      "metadata": {
        "id": "jNu7cwL05hRt"
      },
      "source": [
        "# Importamos el dataset con ayuda de la librería Pandas\n",
        "import numpy as np\n",
        "import pandas as pd\n",
        "\n",
        "url = 'https://docs.google.com/spreadsheets/d/e/2PACX-1vQoUYuX_9hrq6kGC2lo-PXbRPEn_bF2ZesGVJkATM-EkAGu5NbZB-edNyH2-MWL4WCIuI6ikLAV65w/pub?gid=1894357153&single=true&output=csv'\n",
        "dataSet = pd.read_csv(url) #, header=0\n",
        "\n",
        "# Convertimos los datos leídos a un array de numpy\n",
        "data = np.array(dataSet)\n"
      ],
      "execution_count": null,
      "outputs": []
    },
    {
      "cell_type": "markdown",
      "metadata": {
        "id": "-vdmMXh46fBO"
      },
      "source": [
        "Visualización del DataSet"
      ]
    },
    {
      "cell_type": "code",
      "metadata": {
        "id": "CfQFIAwp7P3j"
      },
      "source": [
        "# Visualización del Dataset \n",
        "dataSet"
      ],
      "execution_count": null,
      "outputs": []
    },
    {
      "cell_type": "markdown",
      "metadata": {
        "id": "STtZUZBq6B_G"
      },
      "source": [
        "#### Ingreso y búsqueda de datos"
      ]
    },
    {
      "cell_type": "markdown",
      "metadata": {
        "id": "E-NhZCUB4hy5"
      },
      "source": [
        "Para ejecutar el diagnóstico, por favor ingrese el nombre del paciente en la siguiente celda:"
      ]
    },
    {
      "cell_type": "code",
      "metadata": {
        "id": "8YcScQpf4ZGV"
      },
      "source": [
        "# Ingrese el nombre entre las comillas simples\n",
        "# nombre = 'fabio'\n",
        "nombre = 'Alejandra Guevara'\n",
        "# nombre = 'wilmerto'"
      ],
      "execution_count": null,
      "outputs": []
    },
    {
      "cell_type": "code",
      "metadata": {
        "id": "ex-OCQCwhjMh"
      },
      "source": [
        "# Buscar el nombre en el dataset\n",
        "numeroPersona = 0\n",
        "cont = 0\n",
        "correo = ' '\n",
        "\n",
        "for busquedaNombre in data[:, 1]: \n",
        "  if (busquedaNombre == nombre):\n",
        "      numeroPersona = cont\n",
        "      correo = data[numeroPersona,2:3]\n",
        "      correo = \"\".join(correo)\n",
        "  cont = cont + 1\n",
        "\n",
        "# La variable numeroPersona, indica la clave de los datos\n",
        "datosUsuario = data[numeroPersona,3:]\n",
        "print(datosUsuario)\n",
        "print(correo)\n",
        "print(nombre)"
      ],
      "execution_count": null,
      "outputs": []
    },
    {
      "cell_type": "code",
      "metadata": {
        "id": "ClHGrc-7MdNH"
      },
      "source": [
        "# Clasificación de las entradas obtenidas\n",
        "\n",
        "entradas = [] # Una lista que almacena el peso de cada respuesta\n",
        "\n",
        "for entry in datosUsuario:\n",
        "\n",
        "  if (entry == 'Siempre' or entry == 'Le cuesta mucho, o le parece muy complicado' or entry == 'Muy Frecuentemente'):\n",
        "    entradas.append('3')\n",
        "\n",
        "  if (entry == 'Algunas Veces' or entry == 'Presenta Algunas Dificultades'):\n",
        "    entradas.append('2')\n",
        "\n",
        "  if (entry == 'Nunca' or entry == 'Nada Complicado'):\n",
        "    entradas.append('1')\n"
      ],
      "execution_count": null,
      "outputs": []
    },
    {
      "cell_type": "code",
      "metadata": {
        "id": "PotuXgJthxlh",
        "colab": {
          "base_uri": "https://localhost:8080/"
        },
        "outputId": "24991aae-1883-4506-a3a3-ba5b9dbac7b4"
      },
      "source": [
        "# Conversión de la lista a string\n",
        "\n",
        "print(entradas)\n",
        "print(type(entradas))\n",
        "\n",
        "cadena = \"\".join(entradas)\n",
        "print(cadena)\n",
        "type(cadena)\n"
      ],
      "execution_count": null,
      "outputs": [
        {
          "output_type": "stream",
          "name": "stdout",
          "text": [
            "['2', '2', '2', '2', '2', '2', '2', '1', '1', '2', '2', '3', '3', '2', '1', '3', '3']\n",
            "<class 'list'>\n",
            "22222221122332133\n"
          ]
        },
        {
          "output_type": "execute_result",
          "data": {
            "text/plain": [
              "str"
            ]
          },
          "metadata": {},
          "execution_count": 6
        }
      ]
    },
    {
      "cell_type": "markdown",
      "metadata": {
        "id": "3_juyF1B6uU8"
      },
      "source": [
        "#### ***PsicoAutómata***"
      ]
    },
    {
      "cell_type": "code",
      "metadata": {
        "colab": {
          "base_uri": "https://localhost:8080/"
        },
        "id": "J0xiyHwRT2jt",
        "outputId": "ea238556-a3b3-42b0-b2e5-7128686a658e"
      },
      "source": [
        "# Importamos los recursos necesarios para el autómata\n",
        "from google.colab import drive\n",
        "drive.mount('/content/drive')\n",
        "%cd drive/My Drive/automatas-uis-student/notebooks\n",
        "!pwd\n",
        "!pip install automata-lib==1.0.0.post4"
      ],
      "execution_count": null,
      "outputs": [
        {
          "output_type": "stream",
          "name": "stdout",
          "text": [
            "Mounted at /content/drive\n",
            "[Errno 2] No such file or directory: 'drive/My Drive/automatas-uis-student/notebooks'\n",
            "/content\n",
            "/content\n",
            "Looking in indexes: https://pypi.org/simple, https://us-python.pkg.dev/colab-wheels/public/simple/\n",
            "Collecting automata-lib==1.0.0.post4\n",
            "  Downloading automata-lib-1.0.0.post4.tar.gz (11 kB)\n",
            "Building wheels for collected packages: automata-lib\n",
            "  Building wheel for automata-lib (setup.py) ... \u001b[?25l\u001b[?25hdone\n",
            "  Created wheel for automata-lib: filename=automata_lib-1.0.0.post4-py3-none-any.whl size=13312 sha256=d9568c31b18e1d890c326ffa1f9ad8f66f319b4b9a54f0c5e1488464ea9c383e\n",
            "  Stored in directory: /root/.cache/pip/wheels/96/2f/27/40b605b129cb6410b34fd325d9e491ff88c1f3e8d8dfcedc64\n",
            "Successfully built automata-lib\n",
            "Installing collected packages: automata-lib\n",
            "Successfully installed automata-lib-1.0.0.post4\n"
          ]
        }
      ]
    },
    {
      "cell_type": "code",
      "metadata": {
        "id": "oU9xiFRQ_nG6"
      },
      "source": [
        "# Implementación del PsicoAutómata\n",
        "\n",
        "from automata.fa.nfa import NFA\n",
        "\n",
        "PsicoAutomata = NFA(\n",
        "    states = {'q0', 'q1', 'q2', 'q3','q4'},\n",
        "    input_symbols = {'1', '2', '3'},\n",
        "    transitions = {\n",
        "        'q0': {'1': {'q2'}, '2': {'q2'}, '3': {'q3'}},\n",
        "        'q1': {'': {'q4'}},\n",
        "        'q2': {'': {'q4'}},\n",
        "        'q3': {'': {'q4'}},\n",
        "        'q4': {'1': {'q1'}, '2': {'q2'}, '3': {'q3'}}        \n",
        "    },\n",
        "    initial_state = 'q0',\n",
        "    final_states = {'q4'}\n",
        ")"
      ],
      "execution_count": null,
      "outputs": []
    },
    {
      "cell_type": "code",
      "metadata": {
        "colab": {
          "base_uri": "https://localhost:8080/"
        },
        "id": "e-VQwB61ZoWB",
        "outputId": "92015a31-8a29-4813-c5d1-94be1a3ec692"
      },
      "source": [
        "# Conjuntos\n",
        "type(PsicoAutomata.validate_input(cadena))"
      ],
      "execution_count": null,
      "outputs": [
        {
          "output_type": "execute_result",
          "data": {
            "text/plain": [
              "set"
            ]
          },
          "metadata": {},
          "execution_count": 9
        }
      ]
    },
    {
      "cell_type": "code",
      "metadata": {
        "id": "GQR2cUzrLHyL"
      },
      "source": [
        "# FUNCIÓN QUE REVISA LA CADENA DE ENTRADA\n",
        "def checker(cadena,NFA):\n",
        "    try:\n",
        "        NFA.validate_input(cadena)\n",
        "        return \"La cadena es aceptada: sus estados visitados fueron:\",[step for step in NFA.validate_input(cadena, step=True)]\n",
        "    except Exception as e:\n",
        "        print(\"Entrada no valida: \\n\", e) "
      ],
      "execution_count": null,
      "outputs": []
    },
    {
      "cell_type": "code",
      "metadata": {
        "colab": {
          "base_uri": "https://localhost:8080/"
        },
        "id": "fvER64zocPtf",
        "outputId": "e23931c0-210f-4e4c-bcd8-28d1153b22a5"
      },
      "source": [
        "print (\"¿Es aceptada?: \\n\", checker(cadena, PsicoAutomata))"
      ],
      "execution_count": null,
      "outputs": [
        {
          "output_type": "stream",
          "name": "stdout",
          "text": [
            "¿Es aceptada?: \n",
            " ('La cadena es aceptada: sus estados visitados fueron:', [{'q0'}, {'q2', 'q4'}, {'q2', 'q4'}, {'q2', 'q4'}, {'q2', 'q4'}, {'q2', 'q4'}, {'q2', 'q4'}, {'q2', 'q4'}, {'q1', 'q4'}, {'q1', 'q4'}, {'q2', 'q4'}, {'q2', 'q4'}, {'q3', 'q4'}, {'q3', 'q4'}, {'q2', 'q4'}, {'q1', 'q4'}, {'q3', 'q4'}, {'q3', 'q4'}])\n"
          ]
        }
      ]
    },
    {
      "cell_type": "markdown",
      "metadata": {
        "id": "3r8Qm20U7gkj"
      },
      "source": [
        "#### Diagnóstico"
      ]
    },
    {
      "cell_type": "code",
      "metadata": {
        "id": "RDN7LKQgaeBY"
      },
      "source": [
        "# FUNCIÓN DIAGNÓSTICA\n",
        "\n",
        "def diagnostico(cadena):\n",
        "  sumaTest1 = 0 #depresion\n",
        "  sumaTest2 = 0  #ansiedad\n",
        "  mensajeDiagnostico = ' '\n",
        "  test1 = cadena[:10]\n",
        "  test2 = cadena[10:]\n",
        "\n",
        "  # DEPRESIÓN\n",
        "  for conjunto in (step for step in PsicoAutomata.validate_input(test1, step=True)): # La salida es tipo set, conjunto\n",
        "    if ('q1' in conjunto): \n",
        "      sumaTest1 = sumaTest1 + 1\n",
        "    if ('q2' in conjunto): \n",
        "      sumaTest1 = sumaTest1 + 2\n",
        "    if ('q3' in conjunto): \n",
        "      sumaTest1 = sumaTest1 + 3 \n",
        "  \n",
        "  # ANSIEDAD\n",
        "  for conjunto in (step for step in PsicoAutomata.validate_input(test2, step=True)):\n",
        "    if ('q1' in conjunto): \n",
        "      sumaTest2 = sumaTest2 + 1\n",
        "    if ('q2' in conjunto): \n",
        "      sumaTest2 = sumaTest2 + 2\n",
        "    if ('q3' in conjunto): \n",
        "      sumaTest2 = sumaTest2 + 3\n",
        "  \n",
        "\n",
        "  # DIAGNÓSTICOS\n",
        "  if (sumaTest1>10 and sumaTest1<15 and sumaTest2<=10):\n",
        "    print('Nada de Depresión y nada de Ansiedad')\n",
        "    mensajeDiagnostico = '''Nada de Depresion y nada de Ansiedad. \\n\\nTu estado de animo es bastante bueno y estable. Tiendes a ser optimista y gozas de una buena salud emocional. \n",
        "  Para seguir asi manten el estilo de afrontamiento seguido hasta ahora y escapa de la represion emocional expresando tanto tus emociones negativas como las positivas. \n",
        "  A pesar de que en algunas ocasiones te encuentres mas nervioso de lo habitual tu respuesta ante situaciones ansiosas es adecuada y dentro de lo esperable.\n",
        "      '''\n",
        "      \n",
        "  if (sumaTest1>10 and sumaTest1<15 and sumaTest2>=11 and sumaTest2<=13):\n",
        "    print('Nada de Depresión y Ansiedad Leve')\n",
        "    mensajeDiagnostico = '''Nada de Depresion y Ansiedad Leve. \\n\\nTu estado de animo es bastante bueno y estable. \n",
        "  Tiendes a ser optimista y gozas de una buena salud emocional. \n",
        "  Para seguir asi manten el estilo de afrontamiento seguido hasta ahora y escapa de la represion emocional expresando tanto tus emociones negativas como las positivas.\n",
        "  Tus niveles de ansiedad se situan dentro del limite de normalidad. Pero ten cuidado, no te sobrecargues demasiado e intenta gestionar tu ansiedad cuando sientas que sus niveles empiezan a ser elevados.\n",
        "  Todos tenemos sentimientos de ansiedad, nerviosismo, tension y estres de vez en cuando. \n",
        "  Aqui encontraras maneras de hacerles frente:\n",
        "\n",
        "        - Conviertete en un experto en relajacion.\n",
        "        - Duerme lo suficiente, come bien y haz ejercicio fisico.\n",
        "        - Conectate con otros.\n",
        "        - Conectate con la naturaleza.\n",
        "        - Presta atencion a las cosas buenas.\n",
        "        - Jerarquiza tus prioridades.\n",
        "        - Acepta la situacion que estas viviendo.\n",
        "        - Expresa tus emociones.\n",
        "        '''\n",
        "\n",
        "  if (sumaTest1>10 and sumaTest1<15 and sumaTest2>=14 and sumaTest2<=17):\n",
        "      print('Nada de Depresión y Ansiedad Moderada')\n",
        "      mensajeDiagnostico = '''Nada de Depresion y Ansiedad Moderada. \\n\\nTu estado de animo es bastante bueno y estable. \n",
        "  Tiendes a ser optimista y gozas de una buena salud emocional. \n",
        "  Para seguir asi manten el estilo de afrontamiento seguido hasta ahora y escapa de la represion emocional expresando tanto tus emociones negativas como las positivas.\n",
        "  Tienes niveles de ansiedad altos pero aun no llegas al limite critico. \n",
        "  Es importante que actues de forma inmediata para evitar desarrollar una ansiedad\n",
        "  grave, necesitas solicitar ayuda especializada, Aqui encontraras maneras de hacerles frente:\n",
        "\n",
        "        - Conviertete en un experto en relajacion.\n",
        "        - Duerme lo suficiente, come bien y haz ejercicio fisico.\n",
        "        - Conectate con otros.\n",
        "        - Conectate con la naturaleza.\n",
        "        - Presta atencion a las cosas buenas.\n",
        "        - Jerarquiza tus prioridades.\n",
        "        - Acepta la situacion que estas viviendo.\n",
        "        - Expresa tus emociones. \n",
        "        '''\n",
        "\n",
        "  if (sumaTest1>10 and sumaTest1<15 and sumaTest2>=18):\n",
        "      print('Nada de Depresión y Ansiedad Severa')\n",
        "      mensajeDiagnostico = '''Nada de Depresion y Ansiedad Severa. \\n\\nTu estado de animo es bastante bueno y estable. \n",
        "  Tiendes a ser optimista y gozas de una buena salud emocional. \n",
        "  Para seguir asi manten el estilo de afrontamiento seguido hasta ahora y escapa de la represion emocional expresando tanto tus emociones negativas como las positivas.\n",
        "\n",
        "  Sufres unos niveles de ansiedad demasiados altos. Es importante que aprendas a gestionarlos, ya que estos pueden dar lugar a problemas emocionales y de salud importantes.\n",
        "  Aqui encontraras maneras de hacerles frente, pero ten en cuenta que es necesario solicitar ayuda especializada:\n",
        "\n",
        "        - Conviertete en un experto en relajacion.\n",
        "        - Duerme lo suficiente, come bien y haz ejercicio fisico.\n",
        "        - Conectate con otros.\n",
        "        - Conectate con la naturaleza.\n",
        "        - Presta atencion a las cosas buenas.\n",
        "        - Jerarquiza tus prioridades.\n",
        "        - Acepta la situacion que estas viviendo.\n",
        "        - Expresa tus emociones. \n",
        "        '''\n",
        "\n",
        "\n",
        "  if (sumaTest1>=15 and sumaTest1<20 and sumaTest2<=10):\n",
        "      print('Depresión Baja y nada de Ansiedad')\n",
        "      mensajeDiagnostico = '''Depresion Baja y nada de Ansiedad. \\n\\nLlevas una temporada con el estado de animo de ''capa caida''. \n",
        "  Estas perdiendo el interes por determinadas actividades y muestras tendencia a la apatia. \n",
        "  Intenta eliminar este malestar haciendo actividades (queda con amigos, haz cosas que te gusten, cuidate alimentandote bien, no te encierres en ti mismo, o abuses del alcohol u otras drogas), aunque sean pocas. \n",
        "  El estar activo y el apoyo social disminuyen la probabilidad de sufrir depresion.\n",
        "  A pesar de que en algunas ocasiones te encuentres mas nervioso de lo habitual tu respuesta ante situaciones ansiosas es adecuada y dentro de lo esperable.\n",
        "  '''\n",
        "\n",
        "  if (sumaTest1>=15 and sumaTest1<20 and sumaTest2>=11 and sumaTest2<=13):\n",
        "      print('Depresión Baja y Ansiedad Leve')\n",
        "      mensajeDiagnostico = '''Depresion Baja y Ansiedad Leve. \\n\\nLlevas una temporada con el estado de animo de ''capa caida''.  \n",
        "  Estas perdiendo el interes por determinadas actividades y muestras tendencia a la apatia. \n",
        "  Intenta eliminar este malestar haciendo actividades (queda con amigos, haz cosas que te gusten, cuidate alimentandote bien, no te encierres en ti mismo, o abuses del alcohol u otras drogas), aunque sean pocas. \n",
        "  El estar activo y el apoyo social disminuyen la probabilidad de sufrir depresion.\n",
        "  Tus niveles de ansiedad se situan dentro del limite de normalidad. Pero ten cuidado, no te sobrecargues demasiado e intenta gestionar tu ansiedad cuando sientas que sus niveles empiezan a ser elevados.\n",
        "  Todos tenemos sentimientos de ansiedad, nerviosismo, tension y estres de vez en cuando. \n",
        "  Aqui encontraras maneras de hacerles frente:\n",
        "\n",
        "        - Conviertete en un experto en relajacion.\n",
        "        - Duerme lo suficiente, come bien y haz ejercicio fisico.\n",
        "        - Conectate con otros.\n",
        "        - Conectate con la naturaleza.\n",
        "        - Presta atencion a las cosas buenas.\n",
        "        - Jerarquiza tus prioridades.\n",
        "        - Acepta la situacion que estas viviendo.\n",
        "        - Expresa tus emociones.\n",
        "        '''\n",
        "\n",
        "  if (sumaTest1>=15 and sumaTest1<20 and sumaTest2>=14 and sumaTest2<=17):\n",
        "      print('Depresión Baja y Ansiedad Moderada')\n",
        "      mensajeDiagnostico = '''Depresion Baja y Ansiedad Moderada. \\n\\nLlevas una temporada con el estado de animo de ''capa caida''. \n",
        "  Estas perdiendo el interes por determinadas actividades y muestras tendencia a la apatia. \n",
        "  Intenta eliminar este malestar haciendo actividades (queda con amigos, haz cosas que te gusten, cuidate alimentandote bien, no te encierres en ti mismo, o abuses del alcohol u otras drogas), aunque sean pocas. \n",
        "  El estar activo y el apoyo social disminuyen la probabilidad de sufrir depresion.\n",
        "  Tienes niveles de ansiedad altos pero aun no llegas al limite critico.\n",
        "  Es importante que actues de forma inmediata para evitar desarrollar una ansiedad grave, necesitas solicitar ayuda especializada, Aqui encontraras tips de como tu mismo hacerle frente:\n",
        "\n",
        "        - Conviertete en un experto en relajacion.\n",
        "        - Duerme lo suficiente, come bien y haz ejercicio fisico.\n",
        "        - Conectate con otros.\n",
        "        - Conectate con la naturaleza.\n",
        "        - Presta atencion a las cosas buenas.\n",
        "        - Jerarquiza tus prioridades.\n",
        "        - Acepta la situacion que estas viviendo.\n",
        "        - Expresa tus emociones. \n",
        "        '''\n",
        "\n",
        "  if (sumaTest1>=15 and sumaTest1<20 and sumaTest2>=18):\n",
        "      print('Depresión Baja y Ansiedad Severa')\n",
        "      mensajeDiagnostico = '''Depresion Baja y Ansiedad Severa. \\n\\nLlevas una temporada con el estado de animo de ''capa caida''. \n",
        "  Estas perdiendo el interes por determinadas actividades y muestras tendencia a la apatia. \n",
        "  Intenta eliminar este malestar haciendo actividades (queda con amigos, haz cosas que te gusten, cuidate alimentandote bien, no te encierres en ti mismo, o abuses del alcohol u otras drogas), aunque sean pocas. \n",
        "  El estar activo y el apoyo social disminuyen la probabilidad de sufrir depresion.\n",
        "\n",
        "  Sufres unos niveles de ansiedad demasiados altos. Es importante que aprendas a gestionarlos, ya que estos pueden dar lugar a problemas emocionales y de salud importantes.\n",
        "  Aqui encontraras maneras de hacerles frente, pero ten en cuenta que es necesario solicitar ayuda especializada:\n",
        "\n",
        "        - Conviertete en un experto en relajacion.\n",
        "        - Duerme lo suficiente, come bien y haz ejercicio fisico.\n",
        "        - Conectate con otros.\n",
        "        - Conectate con la naturaleza.\n",
        "        - Presta atencion a las cosas buenas.\n",
        "        - Jerarquiza tus prioridades.\n",
        "        - Acepta la situacion que estas viviendo.\n",
        "        - Expresa tus emociones. \n",
        "        '''\n",
        "\n",
        "\n",
        "\n",
        "  if (sumaTest1>=20 and sumaTest1<25 and sumaTest2<=10):\n",
        "      print('Depresión Moderada y nada de ansiedad')\n",
        "      mensajeDiagnostico = '''Depresion Moderada y nada de ansiedad. \\n\\nTu puntuacion sugiere un estado de animo excesivamente bajo, pudiendo sufrir depresion. \n",
        "  Valoras de forma negativa a tu pasado, presente y futuro y muestras sentimientos de desesperanza. \n",
        "  Tal vez seria bueno que consultes con un especialista que te ayude a superar este malestar.\n",
        "  Hay cosas que puedes hacer para encontrarte mejor:\n",
        "\n",
        "        - Ejercicio fisico.\n",
        "        - Cuidate alimentandote bien.\n",
        "        - Identifica los problemas, pero no les des vueltas\n",
        "        - Expresate.\n",
        "        - Intenta fijarte en el lado positivo de las cosas.\n",
        "        - No tomes decisiones precipitadas.\n",
        "        - No te encierres en ti mismo.\n",
        "        - No abuses del alcohol u otras drogas.\n",
        "\n",
        "  A pesar de que en algunas ocasiones te encuentres mas nervioso de lo habitual tu respuesta ante situaciones ansiosas es adecuada y dentro de lo esperable.\n",
        "        '''\n",
        "\n",
        "  if (sumaTest1>=20 and sumaTest1<25 and sumaTest2>=11 and sumaTest2<=13):\n",
        "      print('Depresión Moderada y ansiedad leve')\n",
        "      mensajeDiagnostico = '''Depresion Moderada y ansiedad leve. \\n\\nTu puntuacion sugiere un estado de animo excesivamente bajo, pudiendo sufrir depresion. \n",
        "  Valoras de forma negativa a tu pasado, presente y futuro y muestras sentimientos de desesperanza. \n",
        "  Tal vez seria bueno que consultes con un especialista que te ayude a superar este malestar.\n",
        "  Hay cosas que puedes hacer para encontrarte mejor:\n",
        "\n",
        "        - Ejercicio fisico.\n",
        "        - Cuidate alimentandote bien.\n",
        "        - Identifica los problemas, pero no les des vueltas\n",
        "        - Expresate.\n",
        "        - Intenta fijarte en el lado positivo de las cosas.\n",
        "        - No tomes decisiones precipitadas.\n",
        "        - No te encierres en ti mismo.\n",
        "        - No abuses del alcohol u otras drogas.\n",
        "\n",
        "  Tus niveles de ansiedad se situan dentro del limite de normalidad. Pero ten cuidado, no te sobrecargues demasiado e intenta gestionar tu ansiedad cuando sientas que sus niveles empiezan a ser elevados.\n",
        "  Todos tenemos sentimientos de ansiedad, nerviosismo, tension y estres de vez en cuando. \n",
        "  Aqui encontraras maneras de hacerles frente:\n",
        "\n",
        "        - Conviertete en un experto en relajacion.\n",
        "        - Duerme lo suficiente, come bien y haz ejercicio fisico.\n",
        "        - Conectate con otros.\n",
        "        - Conectate con la naturaleza.\n",
        "        - Presta atencion a las cosas buenas.\n",
        "        - Jerarquiza tus prioridades.\n",
        "        - Acepta la situacion que estas viviendo.\n",
        "        - Expresa tus emociones. \n",
        "        '''\n",
        "\n",
        "  if (sumaTest1>=20 and sumaTest1<25 and sumaTest2>=14 and sumaTest2<=17):\n",
        "      print('Depresión Moderada y ansiedad moderada')\n",
        "      mensajeDiagnostico = '''Depresion Moderada y ansiedad moderada. \\n\\nTu puntuacion sugiere un estado de animo excesivamente bajo, pudiendo sufrir depresion. \n",
        "  Valoras de forma negativa a tu pasado, presente y futuro y muestras sentimientos de desesperanza. \n",
        "  Tal vez seria bueno que consultes con un especialista que te ayude a superar este malestar.\n",
        "  Hay cosas que puedes hacer para encontrarte mejor:\n",
        "\n",
        "        - Ejercicio fisico.\n",
        "        - Cuidate alimentandote bien.\n",
        "        - Identifica los problemas, pero no les des vueltas\n",
        "        - Expresate.\n",
        "        - Intenta fijarte en el lado positivo de las cosas.\n",
        "        - No tomes decisiones precipitadas.\n",
        "        - No te encierres en ti mismo.\n",
        "        - No abuses del alcohol u otras drogas.\n",
        "\n",
        "  Tienes niveles de ansiedad altos pero aun no llegas al limite critico.\n",
        "  Es importante que actues de forma inmediata para evitar desarrollar una ansiedad grave, necesitas solicitar ayuda especializada, Aqui encontraras tips de como tu mismo hacerle frente:\n",
        "\n",
        "        - Conviertete en un experto en relajacion.\n",
        "        - Duerme lo suficiente, come bien y haz ejercicio fisico.\n",
        "        - Conectate con otros.\n",
        "        - Conectate con la naturaleza.\n",
        "        - Presta atencion a las cosas buenas.\n",
        "        - Jerarquiza tus prioridades.\n",
        "        - Acepta la situacion que estas viviendo.\n",
        "        - Expresa tus emociones. \n",
        "        '''\n",
        "\n",
        "  if (sumaTest1>=20 and sumaTest1<25 and sumaTest2>=18):\n",
        "      print('Depresión Moderada y ansiedad severa')\n",
        "      mensajeDiagnostico = '''Depresion Moderada y ansiedad severa. \\n\\nTu puntuacion sugiere un estado de animo excesivamente bajo, pudiendo sufrir depresion. \n",
        "  Valoras de forma negativa a tu pasado, presente y futuro y muestras sentimientos de desesperanza. \n",
        "  Tal vez seria bueno que consultes con un especialista que te ayude a superar este malestar.\n",
        "  Hay cosas que puedes hacer para encontrarte mejor:\n",
        "\n",
        "        - Ejercicio fisico.\n",
        "        - Cuidate alimentandote bien.\n",
        "        - Identifica los problemas, pero no les des vueltas\n",
        "        - Expresate.\n",
        "        - Intenta fijarte en el lado positivo de las cosas.\n",
        "        - No tomes decisiones precipitadas.\n",
        "        - No te encierres en ti mismo.\n",
        "        - No abuses del alcohol u otras drogas.\n",
        "\n",
        "  Sufres unos niveles de ansiedad demasiados altos. Es importante que aprendas a gestionarlos, ya que estos pueden dar lugar a problemas emocionales y de salud importantes.\n",
        "  Aqui encontraras maneras de hacerles frente, pero ten en cuenta que es necesario solicitar ayuda especializada:\n",
        "\n",
        "        - Conviertete en un experto en relajacion.\n",
        "        - Duerme lo suficiente, come bien y haz ejercicio fisico.\n",
        "        - Conectate con otros.\n",
        "        - Conectate con la naturaleza.\n",
        "        - Presta atencion a las cosas buenas.\n",
        "        - Jerarquiza tus prioridades.\n",
        "        - Acepta la situacion que estas viviendo.\n",
        "        - Expresa tus emociones. \n",
        "        '''\n",
        "\n",
        "\n",
        "\n",
        "  if (sumaTest1>=25 and sumaTest1<30 and sumaTest2<=10):\n",
        "      print('Depresión Severa y nada de ansiedad')\n",
        "      mensajeDiagnostico = '''Depresion Severa y nada de ansiedad. \\n\\nSus resultados indican que usted puede estar sufriendo con sintomas de depresion severa. Basado en sus respuestas, pareceria que estos sintomas estan interfiriendo de gran manera con sus relaciones personales y su vida cotidiana.\n",
        "  Si estas deprimido, lo mejor es que hagas algo al respecto: las depresiones no se curan solas. \n",
        "  Aparte de pedir ayuda a un medico o terapeuta, hay cosas que puedes hacer para encontrarte mejor:\n",
        "\n",
        "        - Ejercicio fisico.\n",
        "        - Cuidate alimentandote bien.\n",
        "        - Identifica los problemas, pero no les des vueltas\n",
        "        - Expresate.\n",
        "        - Intenta fijarte en el lado positivo de las cosas.\n",
        "        - No tomes decisiones precipitadas.\n",
        "        - No te encierres en ti mismo.\n",
        "        - No abuses del alcohol u otras drogas.\n",
        "\n",
        "  A pesar de que en algunas ocasiones te encuentres mas nervioso de lo habitual tu respuesta ante situaciones ansiosas es adecuada y dentro de lo esperable. \n",
        "        '''\n",
        "\n",
        "  if (sumaTest1>=25 and sumaTest1<30 and sumaTest2>=11 and sumaTest2<=13):\n",
        "      print('Depresión Severa y ansiedad leve')\n",
        "      mensajeDiagnostico = '''Depresion Severa y ansiedad leve. \\n\\nSus resultados indican que usted puede estar sufriendo con sintomas de depresion severa. Basado en sus respuestas, pareceria que estos sintomas estan interfiriendo de gran manera con sus relaciones personales y su vida cotidiana.\n",
        "  Si estas deprimido, lo mejor es que hagas algo al respecto: las depresiones no se curan solas. \n",
        "  Aparte de pedir ayuda a un medico o terapeuta, hay cosas que puedes hacer para encontrarte mejor:\n",
        "\n",
        "        - Ejercicio fisico.\n",
        "        - Cuidate alimentandote bien.\n",
        "        - Identifica los problemas, pero no les des vueltas\n",
        "        - Expresate.\n",
        "        - Intenta fijarte en el lado positivo de las cosas.\n",
        "        - No tomes decisiones precipitadas.\n",
        "        - No te encierres en ti mismo.\n",
        "        - No abuses del alcohol u otras drogas.\n",
        "\n",
        "  Tus niveles de ansiedad se situan dentro del limite de normalidad. Pero ten cuidado, no te sobrecargues demasiado e intenta gestionar tu ansiedad cuando sientas que sus niveles empiezan a ser elevados.\n",
        "  Todos tenemos sentimientos de ansiedad, nerviosismo, tension y estres de vez en cuando. \n",
        "  Aqui encontraras maneras de hacerles frente:\n",
        "\n",
        "        - Conviertete en un experto en relajacion.\n",
        "        - Duerme lo suficiente, come bien y haz ejercicio fisico.\n",
        "        - Conectate con otros.\n",
        "        - Conectate con la naturaleza.\n",
        "        - Presta atencion a las cosas buenas.\n",
        "        - Jerarquiza tus prioridades.\n",
        "        - Acepta la situacion que estas viviendo.\n",
        "        - Expresa tus emociones. \n",
        "        '''\n",
        "\n",
        "  if (sumaTest1>=25 and sumaTest1<30 and sumaTest2>=14 and sumaTest2<=17):\n",
        "      print('Depresión Severa y ansiedad moderada')\n",
        "      mensajeDiagnostico = '''Depresion Severa y ansiedad moderada. \\n\\nSus resultados indican que usted puede estar sufriendo con sintomas de depresion severa. Basado en sus respuestas, pareceria que estos sintomas estan interfiriendo de gran manera con sus relaciones personales y su vida cotidiana.\n",
        "  Si estas deprimido, lo mejor es que hagas algo al respecto: las depresiones no se curan solas. \n",
        "  Aparte de pedir ayuda a un medico o terapeuta, hay cosas que puedes hacer para encontrarte mejor:\n",
        "\n",
        "        - Ejercicio fisico.\n",
        "        - Cuidate alimentandote bien.\n",
        "        - Identifica los problemas, pero no les des vueltas\n",
        "        - Expresate.\n",
        "        - Intenta fijarte en el lado positivo de las cosas.\n",
        "        - No tomes decisiones precipitadas.\n",
        "        - No te encierres en ti mismo.\n",
        "        - No abuses del alcohol u otras drogas.\n",
        "\n",
        "  Tienes niveles de ansiedad altos pero aun no llegas al limite critico.\n",
        "  Es importante que actues de forma inmediata para evitar desarrollar una ansiedad grave, necesitas solicitar ayuda especializada, Aqui encontraras tips de como tu mismo hacerle frente:\n",
        "\n",
        "        - Conviertete en un experto en relajacion.\n",
        "        - Duerme lo suficiente, come bien y haz ejercicio fisico.\n",
        "        - Conectate con otros.\n",
        "        - Conectate con la naturaleza.\n",
        "        - Presta atencion a las cosas buenas.\n",
        "        - Jerarquiza tus prioridades.\n",
        "        - Acepta la situacion que estas viviendo.\n",
        "        - Expresa tus emociones. \n",
        "        '''\n",
        "\n",
        "  if (sumaTest1>=25 and sumaTest1<30 and sumaTest2>=18):\n",
        "      print('Depresión Severa y ansiedad severa')\n",
        "      mensajeDiagnostico = '''Depresion Severa y ansiedad severa. \\n\\nSus resultados indican que usted puede estar sufriendo con sintomas de depresion severa. Basado en sus respuestas, pareceria que estos sintomas estan interfiriendo de gran manera con sus relaciones personales y su vida cotidiana.\n",
        "  Si estas deprimido, lo mejor es que hagas algo al respecto: las depresiones no se curan solas. \n",
        "  Aparte de pedir ayuda a un medico o terapeuta, hay cosas que puedes hacer para encontrarte mejor:\n",
        "\n",
        "        - Ejercicio fisico.\n",
        "        - Cuidate alimentandote bien.\n",
        "        - Identifica los problemas, pero no les des vueltas\n",
        "        - Expresate.\n",
        "        - Intenta fijarte en el lado positivo de las cosas.\n",
        "        - No tomes decisiones precipitadas.\n",
        "        - No te encierres en ti mismo.\n",
        "        - No abuses del alcohol u otras drogas.\n",
        "\n",
        "  Sufres unos niveles de ansiedad demasiados altos. Es importante que aprendas a gestionarlos, ya que estos pueden dar lugar a problemas emocionales y de salud importantes.\n",
        "  Aqui encontraras maneras de hacerles frente, pero ten en cuenta que es necesario solicitar ayuda especializada:\n",
        "\n",
        "        - Conviertete en un experto en relajacion.\n",
        "        - Duerme lo suficiente, come bien y haz ejercicio fisico.\n",
        "        - Conectate con otros.\n",
        "        - Conectate con la naturaleza.\n",
        "        - Presta atencion a las cosas buenas.\n",
        "        - Jerarquiza tus prioridades.\n",
        "        - Acepta la situacion que estas viviendo.\n",
        "        - Expresa tus emociones. \n",
        "        '''\n",
        "  \n",
        "  return mensajeDiagnostico"
      ],
      "execution_count": null,
      "outputs": []
    },
    {
      "cell_type": "markdown",
      "metadata": {
        "id": "3vG4hMgJ7oRM"
      },
      "source": [
        "#### Comprobación y envío de Resultados por Correo Electrónico"
      ]
    },
    {
      "cell_type": "code",
      "metadata": {
        "id": "l-B2ZgAhLLxa",
        "colab": {
          "base_uri": "https://localhost:8080/"
        },
        "outputId": "8d73a1ae-032b-4734-c41e-572e69391360"
      },
      "source": [
        "# ENTRADA DE LOS DATOS DEL PACIENTE\n",
        "print (\"¿Es aceptada?: \", checker(cadena, PsicoAutomata))\n",
        "mensajeDiagnostico = diagnostico(cadena)\n",
        "print('\\n')\n",
        "# print(mensajeDiagnostico)"
      ],
      "execution_count": null,
      "outputs": [
        {
          "output_type": "stream",
          "name": "stdout",
          "text": [
            "¿Es aceptada?:  ('La cadena es aceptada: sus estados visitados fueron:', [{'q0'}, {'q2', 'q4'}, {'q2', 'q4'}, {'q2', 'q4'}, {'q2', 'q4'}, {'q2', 'q4'}, {'q2', 'q4'}, {'q2', 'q4'}, {'q1', 'q4'}, {'q1', 'q4'}, {'q2', 'q4'}, {'q2', 'q4'}, {'q3', 'q4'}, {'q3', 'q4'}, {'q2', 'q4'}, {'q1', 'q4'}, {'q3', 'q4'}, {'q3', 'q4'}])\n",
            "Depresión Baja y Ansiedad Moderada\n",
            "\n",
            "\n"
          ]
        }
      ]
    },
    {
      "cell_type": "code",
      "metadata": {
        "id": "PyDcyT8WfylY"
      },
      "source": [
        "import smtplib\n",
        "\n",
        "mensajeRes = 'Querido/a '\n",
        "mensajeFinal = '\\n\\nConsulta a un profesional de la salud. \\nRECUERDA QUE NO ESTAS SOLO/A!'\n",
        "pD = '\\n\\n\\nCuidate... \\n\\tEl equipo de PsicoAutomata'\n",
        "mensajeRes1 = '. \\nTu diagnostico es: '\n",
        "asunto = 'Resultados del Test de PsicoAutomata'\n",
        "\n",
        "message = 'Subject: {}\\n\\n{}'.format(asunto, mensajeRes + nombre + mensajeRes1 + mensajeDiagnostico + mensajeFinal + pD)\n",
        "\n",
        "server = smtplib.SMTP('smtp.gmail.com', 25)\n",
        "server.starttls()\n",
        "server.login('psicoautomata@gmail.com', '********')\n",
        "\n",
        "server.sendmail('psicoautomata@gmail.com', correo, message)\n",
        "\n",
        "print('Correo enviado exitosamente')\n",
        "# server.quit()\n"
      ],
      "execution_count": null,
      "outputs": []
    }
  ]
}